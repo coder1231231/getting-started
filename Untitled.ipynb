{
 "cells": [
  {
   "cell_type": "code",
   "execution_count": 1,
   "id": "3d6e0f16",
   "metadata": {},
   "outputs": [
    {
     "name": "stdout",
     "output_type": "stream",
     "text": [
      "hello world!\n"
     ]
    }
   ],
   "source": [
    "print(\"hello world!\")\n"
   ]
  },
  {
   "cell_type": "code",
   "execution_count": 23,
   "id": "c3c70669",
   "metadata": {},
   "outputs": [
    {
     "name": "stdout",
     "output_type": "stream",
     "text": [
      "Hello Queen Elizabeth, how is your day?\n",
      "42\n"
     ]
    }
   ],
   "source": [
    "def greet(name):\n",
    "    greeting = \"Hello \" + name + \", how is your day?\"\n",
    "    return(greeting)\n",
    "\n",
    "def multiply(x,y):\n",
    "    return(x*y)\n",
    "\n",
    "print(greet(\"Queen Elizabeth\"))\n",
    "print(multiply(7,6))\n"
   ]
  },
  {
   "cell_type": "code",
   "execution_count": 24,
   "id": "146073e0",
   "metadata": {},
   "outputs": [
    {
     "name": "stdout",
     "output_type": "stream",
     "text": [
      "Hello Obama, how is your day?\n",
      "246\n"
     ]
    }
   ],
   "source": [
    "print(greet(\"Obama\"))\n",
    "print(multiply(123,2))\n"
   ]
  },
  {
   "cell_type": "code",
   "execution_count": 25,
   "id": "d19004c3",
   "metadata": {},
   "outputs": [
    {
     "name": "stdout",
     "output_type": "stream",
     "text": [
      "Hello Joe Biden, how is your day?\n",
      "264\n"
     ]
    }
   ],
   "source": [
    "print(greet(\"Joe Biden\"))\n",
    "print(multiply(33,8))"
   ]
  },
  {
   "cell_type": "code",
   "execution_count": null,
   "id": "62b64e49",
   "metadata": {},
   "outputs": [],
   "source": []
  }
 ],
 "metadata": {
  "kernelspec": {
   "display_name": "Python 3 (ipykernel)",
   "language": "python",
   "name": "python3"
  },
  "language_info": {
   "codemirror_mode": {
    "name": "ipython",
    "version": 3
   },
   "file_extension": ".py",
   "mimetype": "text/x-python",
   "name": "python",
   "nbconvert_exporter": "python",
   "pygments_lexer": "ipython3",
   "version": "3.9.12"
  }
 },
 "nbformat": 4,
 "nbformat_minor": 5
}
